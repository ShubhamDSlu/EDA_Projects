{
 "cells": [
  {
   "cell_type": "code",
   "execution_count": null,
   "id": "ec0eeb00-f91d-448a-b7a2-76d4c61ead7c",
   "metadata": {},
   "outputs": [],
   "source": [
    "#Creating Array Command"
   ]
  },
  {
   "cell_type": "code",
   "execution_count": 1,
   "id": "29771d03-7f02-4c42-bf63-65863fa3beca",
   "metadata": {},
   "outputs": [],
   "source": [
    "import numpy as np"
   ]
  },
  {
   "cell_type": "code",
   "execution_count": 2,
   "id": "dac8c911-3016-4830-b849-d46568d39df1",
   "metadata": {},
   "outputs": [],
   "source": [
    "a = np.array(0)"
   ]
  },
  {
   "cell_type": "code",
   "execution_count": 3,
   "id": "66db23cf-0535-4db4-ac55-4f20bb5f54ad",
   "metadata": {},
   "outputs": [
    {
     "data": {
      "text/plain": [
       "array(0)"
      ]
     },
     "execution_count": 3,
     "metadata": {},
     "output_type": "execute_result"
    }
   ],
   "source": [
    "a"
   ]
  },
  {
   "cell_type": "code",
   "execution_count": 5,
   "id": "ddc4d2a7-240f-400a-b9e9-56903be8b713",
   "metadata": {},
   "outputs": [],
   "source": [
    "b = np.array([ 1 , 2 , 3])"
   ]
  },
  {
   "cell_type": "code",
   "execution_count": 6,
   "id": "fe605ecd-5308-4c0f-b993-f0114169ac88",
   "metadata": {},
   "outputs": [
    {
     "data": {
      "text/plain": [
       "array([1, 2, 3])"
      ]
     },
     "execution_count": 6,
     "metadata": {},
     "output_type": "execute_result"
    }
   ],
   "source": [
    "b"
   ]
  },
  {
   "cell_type": "code",
   "execution_count": 8,
   "id": "0690c139-3629-4e8d-8cc6-6c0768bea044",
   "metadata": {},
   "outputs": [],
   "source": [
    "c = np.array([[1 , 2] , [3 , 4]])"
   ]
  },
  {
   "cell_type": "code",
   "execution_count": 9,
   "id": "1af4ab72-faba-46d4-ae0d-ffd4b9a14a37",
   "metadata": {},
   "outputs": [
    {
     "data": {
      "text/plain": [
       "array([[1, 2],\n",
       "       [3, 4]])"
      ]
     },
     "execution_count": 9,
     "metadata": {},
     "output_type": "execute_result"
    }
   ],
   "source": [
    "c"
   ]
  },
  {
   "cell_type": "code",
   "execution_count": 14,
   "id": "4b34efb8-6e4d-4287-999f-901074a8b657",
   "metadata": {},
   "outputs": [
    {
     "data": {
      "text/plain": [
       "(2, 2)"
      ]
     },
     "execution_count": 14,
     "metadata": {},
     "output_type": "execute_result"
    }
   ],
   "source": [
    "c.shape"
   ]
  },
  {
   "cell_type": "code",
   "execution_count": 16,
   "id": "5b218753-c1c2-4c08-be21-c94a4ba3a391",
   "metadata": {},
   "outputs": [
    {
     "data": {
      "text/plain": [
       "array([0., 0., 0., 0., 0., 0.])"
      ]
     },
     "execution_count": 16,
     "metadata": {},
     "output_type": "execute_result"
    }
   ],
   "source": [
    "np.zeros(6)"
   ]
  },
  {
   "cell_type": "code",
   "execution_count": 17,
   "id": "a8c980c3-cf61-48e3-a99d-df213c7bf29c",
   "metadata": {},
   "outputs": [
    {
     "data": {
      "text/plain": [
       "array([[1., 1., 1., 1.]])"
      ]
     },
     "execution_count": 17,
     "metadata": {},
     "output_type": "execute_result"
    }
   ],
   "source": [
    "np.ones((1 , 4))"
   ]
  },
  {
   "cell_type": "code",
   "execution_count": 21,
   "id": "8a4dd96e-a724-414d-ba8f-06a4c59d229b",
   "metadata": {},
   "outputs": [],
   "source": [
    "d = np.arange(0,50,3)"
   ]
  },
  {
   "cell_type": "code",
   "execution_count": 22,
   "id": "005c8298-5f2a-4001-8f6c-0f679afed9bd",
   "metadata": {},
   "outputs": [
    {
     "data": {
      "text/plain": [
       "array([ 0,  3,  6,  9, 12, 15, 18, 21, 24, 27, 30, 33, 36, 39, 42, 45, 48])"
      ]
     },
     "execution_count": 22,
     "metadata": {},
     "output_type": "execute_result"
    }
   ],
   "source": [
    "d"
   ]
  },
  {
   "cell_type": "code",
   "execution_count": 23,
   "id": "43f12c05-31fc-41fd-85e4-145c258f36b1",
   "metadata": {},
   "outputs": [
    {
     "data": {
      "text/plain": [
       "(17,)"
      ]
     },
     "execution_count": 23,
     "metadata": {},
     "output_type": "execute_result"
    }
   ],
   "source": [
    "d.shape"
   ]
  },
  {
   "cell_type": "code",
   "execution_count": 26,
   "id": "eb1548e6-01f1-4d61-8568-2099d0ece05b",
   "metadata": {},
   "outputs": [],
   "source": [
    "e = np.random.rand(50 , 1)"
   ]
  },
  {
   "cell_type": "code",
   "execution_count": 30,
   "id": "036c0f08-2d06-415e-93a9-67bcf2f5696c",
   "metadata": {},
   "outputs": [
    {
     "data": {
      "text/plain": [
       "array([[0.0915978 ],\n",
       "       [0.02141249],\n",
       "       [0.87608296],\n",
       "       [0.5358997 ],\n",
       "       [0.83064202],\n",
       "       [0.66162854],\n",
       "       [0.69594882],\n",
       "       [0.05378625],\n",
       "       [0.07585299],\n",
       "       [0.32600504],\n",
       "       [0.65369911],\n",
       "       [0.0183536 ],\n",
       "       [0.10539003],\n",
       "       [0.36793759],\n",
       "       [0.5033821 ],\n",
       "       [0.30276762],\n",
       "       [0.74041817],\n",
       "       [0.03266843],\n",
       "       [0.49117854],\n",
       "       [0.04141961],\n",
       "       [0.47923737],\n",
       "       [0.85765548],\n",
       "       [0.44116108],\n",
       "       [0.36628678],\n",
       "       [0.16170972],\n",
       "       [0.50980587],\n",
       "       [0.34889796],\n",
       "       [0.20501431],\n",
       "       [0.74304819],\n",
       "       [0.44906392],\n",
       "       [0.15721965],\n",
       "       [0.96802387],\n",
       "       [0.48138417],\n",
       "       [0.01981335],\n",
       "       [0.22402165],\n",
       "       [0.71551081],\n",
       "       [0.04095265],\n",
       "       [0.71537371],\n",
       "       [0.96943497],\n",
       "       [0.42779012],\n",
       "       [0.9779997 ],\n",
       "       [0.06145929],\n",
       "       [0.88202584],\n",
       "       [0.55841767],\n",
       "       [0.93005628],\n",
       "       [0.15535824],\n",
       "       [0.18701803],\n",
       "       [0.47834913],\n",
       "       [0.68821165],\n",
       "       [0.57469491]])"
      ]
     },
     "execution_count": 30,
     "metadata": {},
     "output_type": "execute_result"
    }
   ],
   "source": [
    "e"
   ]
  },
  {
   "cell_type": "code",
   "execution_count": 33,
   "id": "ebf739b4-af3f-46f4-9601-77b6dd0fe5af",
   "metadata": {},
   "outputs": [
    {
     "data": {
      "text/plain": [
       "array([[1., 0., 0.],\n",
       "       [0., 1., 0.],\n",
       "       [0., 0., 1.]])"
      ]
     },
     "execution_count": 33,
     "metadata": {},
     "output_type": "execute_result"
    }
   ],
   "source": [
    "np.eye(3)"
   ]
  },
  {
   "cell_type": "code",
   "execution_count": 35,
   "id": "45962941-33fa-439c-af61-506fc059f48a",
   "metadata": {},
   "outputs": [
    {
     "data": {
      "text/plain": [
       "1411"
      ]
     },
     "execution_count": 35,
     "metadata": {},
     "output_type": "execute_result"
    }
   ],
   "source": [
    "np.random.randint(0 , 2500)"
   ]
  },
  {
   "cell_type": "code",
   "execution_count": 36,
   "id": "606f2b92-b98e-4576-b31e-47464f7709e4",
   "metadata": {},
   "outputs": [],
   "source": [
    "#inspecting properties command"
   ]
  },
  {
   "cell_type": "code",
   "execution_count": 37,
   "id": "1ecdf768-99d4-4542-a093-40cb9dfd2efc",
   "metadata": {},
   "outputs": [],
   "source": [
    "import numpy as no"
   ]
  },
  {
   "cell_type": "code",
   "execution_count": 38,
   "id": "342dae72-548f-42fa-835e-30030076c2d3",
   "metadata": {},
   "outputs": [],
   "source": [
    "a = np.arange(0 , 100 , 2)"
   ]
  },
  {
   "cell_type": "code",
   "execution_count": 42,
   "id": "4bcb322a-dc2f-45b9-bae0-0c31000b7656",
   "metadata": {},
   "outputs": [
    {
     "data": {
      "text/plain": [
       "array([ 0,  2,  4,  6,  8, 10, 12, 14, 16, 18, 20, 22, 24, 26, 28, 30, 32,\n",
       "       34, 36, 38, 40, 42, 44, 46, 48, 50, 52, 54, 56, 58, 60, 62, 64, 66,\n",
       "       68, 70, 72, 74, 76, 78, 80, 82, 84, 86, 88, 90, 92, 94, 96, 98])"
      ]
     },
     "execution_count": 42,
     "metadata": {},
     "output_type": "execute_result"
    }
   ],
   "source": [
    "a"
   ]
  },
  {
   "cell_type": "code",
   "execution_count": 43,
   "id": "d613e588-e282-4bf4-8c0c-9c5007d6b9a2",
   "metadata": {},
   "outputs": [
    {
     "data": {
      "text/plain": [
       "50"
      ]
     },
     "execution_count": 43,
     "metadata": {},
     "output_type": "execute_result"
    }
   ],
   "source": [
    "a.size"
   ]
  },
  {
   "cell_type": "code",
   "execution_count": 44,
   "id": "7e98e383-54e2-48c0-a3eb-1b74d3956d4b",
   "metadata": {},
   "outputs": [
    {
     "data": {
      "text/plain": [
       "(50,)"
      ]
     },
     "execution_count": 44,
     "metadata": {},
     "output_type": "execute_result"
    }
   ],
   "source": [
    "a.shape"
   ]
  },
  {
   "cell_type": "code",
   "execution_count": 46,
   "id": "96e4836d-766a-496e-9688-6b3667abd69c",
   "metadata": {},
   "outputs": [
    {
     "data": {
      "text/plain": [
       "dtype('int32')"
      ]
     },
     "execution_count": 46,
     "metadata": {},
     "output_type": "execute_result"
    }
   ],
   "source": [
    "a.dtype"
   ]
  },
  {
   "cell_type": "code",
   "execution_count": 47,
   "id": "3a59310c-f89c-4a9b-bcb5-0f513b852934",
   "metadata": {},
   "outputs": [
    {
     "data": {
      "text/plain": [
       "array([ 0.,  2.,  4.,  6.,  8., 10., 12., 14., 16., 18., 20., 22., 24.,\n",
       "       26., 28., 30., 32., 34., 36., 38., 40., 42., 44., 46., 48., 50.,\n",
       "       52., 54., 56., 58., 60., 62., 64., 66., 68., 70., 72., 74., 76.,\n",
       "       78., 80., 82., 84., 86., 88., 90., 92., 94., 96., 98.])"
      ]
     },
     "execution_count": 47,
     "metadata": {},
     "output_type": "execute_result"
    }
   ],
   "source": [
    "a.astype(float)"
   ]
  },
  {
   "cell_type": "code",
   "execution_count": 49,
   "id": "8f1d3b60-9a5d-4026-8db7-b2e92a51853c",
   "metadata": {},
   "outputs": [
    {
     "data": {
      "text/plain": [
       "[0,\n",
       " 2,\n",
       " 4,\n",
       " 6,\n",
       " 8,\n",
       " 10,\n",
       " 12,\n",
       " 14,\n",
       " 16,\n",
       " 18,\n",
       " 20,\n",
       " 22,\n",
       " 24,\n",
       " 26,\n",
       " 28,\n",
       " 30,\n",
       " 32,\n",
       " 34,\n",
       " 36,\n",
       " 38,\n",
       " 40,\n",
       " 42,\n",
       " 44,\n",
       " 46,\n",
       " 48,\n",
       " 50,\n",
       " 52,\n",
       " 54,\n",
       " 56,\n",
       " 58,\n",
       " 60,\n",
       " 62,\n",
       " 64,\n",
       " 66,\n",
       " 68,\n",
       " 70,\n",
       " 72,\n",
       " 74,\n",
       " 76,\n",
       " 78,\n",
       " 80,\n",
       " 82,\n",
       " 84,\n",
       " 86,\n",
       " 88,\n",
       " 90,\n",
       " 92,\n",
       " 94,\n",
       " 96,\n",
       " 98]"
      ]
     },
     "execution_count": 49,
     "metadata": {},
     "output_type": "execute_result"
    }
   ],
   "source": [
    "a.tolist()"
   ]
  },
  {
   "cell_type": "code",
   "execution_count": 50,
   "id": "f5228117-2882-4a79-b28e-ff04c6a2e004",
   "metadata": {},
   "outputs": [],
   "source": [
    "#copying  , sorting and reshape command"
   ]
  },
  {
   "cell_type": "code",
   "execution_count": 51,
   "id": "61affc3b-4285-41bb-bd45-489aeffb73c3",
   "metadata": {},
   "outputs": [],
   "source": [
    "import numpy as np"
   ]
  },
  {
   "cell_type": "code",
   "execution_count": 52,
   "id": "d76675f4-d0d9-480a-a565-9a95e6c817c4",
   "metadata": {},
   "outputs": [],
   "source": [
    "a = np.arange(0 , 100 , 2)"
   ]
  },
  {
   "cell_type": "code",
   "execution_count": 53,
   "id": "23f6530e-a6cf-462f-bedc-587fa9eb0b3b",
   "metadata": {},
   "outputs": [
    {
     "data": {
      "text/plain": [
       "array([ 0,  2,  4,  6,  8, 10, 12, 14, 16, 18, 20, 22, 24, 26, 28, 30, 32,\n",
       "       34, 36, 38, 40, 42, 44, 46, 48, 50, 52, 54, 56, 58, 60, 62, 64, 66,\n",
       "       68, 70, 72, 74, 76, 78, 80, 82, 84, 86, 88, 90, 92, 94, 96, 98])"
      ]
     },
     "execution_count": 53,
     "metadata": {},
     "output_type": "execute_result"
    }
   ],
   "source": [
    "a"
   ]
  },
  {
   "cell_type": "code",
   "execution_count": 54,
   "id": "b6f697f6-d54a-4622-a602-39b335d3143f",
   "metadata": {},
   "outputs": [],
   "source": [
    "c = np.copy(a)"
   ]
  },
  {
   "cell_type": "code",
   "execution_count": 55,
   "id": "24a770de-2fed-4306-a736-1aa561d1edbf",
   "metadata": {},
   "outputs": [
    {
     "data": {
      "text/plain": [
       "array([ 0,  2,  4,  6,  8, 10, 12, 14, 16, 18, 20, 22, 24, 26, 28, 30, 32,\n",
       "       34, 36, 38, 40, 42, 44, 46, 48, 50, 52, 54, 56, 58, 60, 62, 64, 66,\n",
       "       68, 70, 72, 74, 76, 78, 80, 82, 84, 86, 88, 90, 92, 94, 96, 98])"
      ]
     },
     "execution_count": 55,
     "metadata": {},
     "output_type": "execute_result"
    }
   ],
   "source": [
    "c"
   ]
  },
  {
   "cell_type": "code",
   "execution_count": 56,
   "id": "6b5e00b5-2106-439e-9773-0a37ea4715ae",
   "metadata": {},
   "outputs": [
    {
     "data": {
      "text/plain": [
       "dtype('int32')"
      ]
     },
     "execution_count": 56,
     "metadata": {},
     "output_type": "execute_result"
    }
   ],
   "source": [
    "a.dtype"
   ]
  },
  {
   "cell_type": "code",
   "execution_count": 57,
   "id": "bfaf6be2-7d2b-4ef6-bab7-0c3e323cd0ea",
   "metadata": {},
   "outputs": [
    {
     "data": {
      "text/plain": [
       "array([4.24399158e-314, 1.27319747e-313, 2.12199579e-313, 2.97079411e-313,\n",
       "       3.81959242e-313, 4.66839074e-313, 5.51718906e-313, 6.36598737e-313,\n",
       "       7.21478569e-313, 8.06358401e-313, 8.91238232e-313, 9.76118064e-313,\n",
       "       1.06099790e-312, 1.14587773e-312, 1.23075756e-312, 1.31563739e-312,\n",
       "       1.40051722e-312, 1.48539705e-312, 1.57027689e-312, 1.65515672e-312,\n",
       "       1.74003655e-312, 1.82491638e-312, 1.90979621e-312, 1.99467604e-312,\n",
       "       2.07955588e-312])"
      ]
     },
     "execution_count": 57,
     "metadata": {},
     "output_type": "execute_result"
    }
   ],
   "source": [
    "a.view(float)"
   ]
  },
  {
   "cell_type": "code",
   "execution_count": 58,
   "id": "38267a17-6fb8-4d5e-9c08-503ce590a762",
   "metadata": {},
   "outputs": [],
   "source": [
    "d = np.array([[1 , 2 , 3 , 4]])"
   ]
  },
  {
   "cell_type": "code",
   "execution_count": 59,
   "id": "8a8f6128-6631-4bcd-91dc-3242f3461455",
   "metadata": {},
   "outputs": [
    {
     "data": {
      "text/plain": [
       "array([[1, 2, 3, 4]])"
      ]
     },
     "execution_count": 59,
     "metadata": {},
     "output_type": "execute_result"
    }
   ],
   "source": [
    "d "
   ]
  },
  {
   "cell_type": "code",
   "execution_count": 60,
   "id": "31fdf4e1-5c45-45a0-9625-248920f6a013",
   "metadata": {},
   "outputs": [
    {
     "data": {
      "text/plain": [
       "(1, 4)"
      ]
     },
     "execution_count": 60,
     "metadata": {},
     "output_type": "execute_result"
    }
   ],
   "source": [
    "d.shape"
   ]
  },
  {
   "cell_type": "code",
   "execution_count": 61,
   "id": "567799ae-7dbd-47b4-b3ea-701472e848d5",
   "metadata": {},
   "outputs": [
    {
     "data": {
      "text/plain": [
       "array([1, 2, 3, 4])"
      ]
     },
     "execution_count": 61,
     "metadata": {},
     "output_type": "execute_result"
    }
   ],
   "source": [
    "d.flatten()"
   ]
  },
  {
   "cell_type": "code",
   "execution_count": 63,
   "id": "fd65cd86-c29a-4e52-a085-70219c02616d",
   "metadata": {},
   "outputs": [
    {
     "data": {
      "text/plain": [
       "array([[1],\n",
       "       [2],\n",
       "       [3],\n",
       "       [4]])"
      ]
     },
     "execution_count": 63,
     "metadata": {},
     "output_type": "execute_result"
    }
   ],
   "source": [
    "d.T"
   ]
  },
  {
   "cell_type": "code",
   "execution_count": 64,
   "id": "49c0e808-5501-47b7-a25e-41b6c955fdbb",
   "metadata": {},
   "outputs": [
    {
     "data": {
      "text/plain": [
       "array([[1],\n",
       "       [2],\n",
       "       [3],\n",
       "       [4]])"
      ]
     },
     "execution_count": 64,
     "metadata": {},
     "output_type": "execute_result"
    }
   ],
   "source": [
    "d.reshape(4 , 1)"
   ]
  },
  {
   "cell_type": "code",
   "execution_count": 65,
   "id": "0267acad-4932-4c87-b344-8d4e832c1430",
   "metadata": {},
   "outputs": [],
   "source": [
    "#Adding AND removing commands"
   ]
  },
  {
   "cell_type": "code",
   "execution_count": 66,
   "id": "82d6045d-8807-4a04-9f14-39151c2f6138",
   "metadata": {},
   "outputs": [],
   "source": [
    "a = np.arange( 1 , 100 , 2)"
   ]
  },
  {
   "cell_type": "code",
   "execution_count": 67,
   "id": "9777cd4d-250e-416f-84ac-70f9bdc36ae1",
   "metadata": {},
   "outputs": [
    {
     "data": {
      "text/plain": [
       "array([ 1,  3,  5,  7,  9, 11, 13, 15, 17, 19, 21, 23, 25, 27, 29, 31, 33,\n",
       "       35, 37, 39, 41, 43, 45, 47, 49, 51, 53, 55, 57, 59, 61, 63, 65, 67,\n",
       "       69, 71, 73, 75, 77, 79, 81, 83, 85, 87, 89, 91, 93, 95, 97, 99])"
      ]
     },
     "execution_count": 67,
     "metadata": {},
     "output_type": "execute_result"
    }
   ],
   "source": [
    "a"
   ]
  },
  {
   "cell_type": "code",
   "execution_count": 69,
   "id": "a14c89fb-52ee-43c2-9052-d9afce1f9887",
   "metadata": {},
   "outputs": [
    {
     "data": {
      "text/plain": [
       "array([  1,   3,   5,   7,   9,  11,  13,  15,  17,  19,  21,  23,  25,\n",
       "        27,  29,  31,  33,  35,  37,  39,  41,  43,  45,  47,  49,  51,\n",
       "        53,  55,  57,  59,  61,  63,  65,  67,  69,  71,  73,  75,  77,\n",
       "        79,  81,  83,  85,  87,  89,  91,  93,  95,  97,  99, 100])"
      ]
     },
     "execution_count": 69,
     "metadata": {},
     "output_type": "execute_result"
    }
   ],
   "source": [
    "np.append(a , 100)"
   ]
  },
  {
   "cell_type": "code",
   "execution_count": 70,
   "id": "10dbe7e9-b625-4040-9a2f-4cebdd923a43",
   "metadata": {},
   "outputs": [
    {
     "data": {
      "text/plain": [
       "array([ 1,  5,  7,  9, 11, 13, 15, 17, 19, 21, 23, 25, 27, 29, 31, 33, 35,\n",
       "       37, 39, 41, 43, 45, 47, 49, 51, 53, 55, 57, 59, 61, 63, 65, 67, 69,\n",
       "       71, 73, 75, 77, 79, 81, 83, 85, 87, 89, 91, 93, 95, 97, 99])"
      ]
     },
     "execution_count": 70,
     "metadata": {},
     "output_type": "execute_result"
    }
   ],
   "source": [
    "np.delete(a , 1 , axis = 0)"
   ]
  },
  {
   "cell_type": "code",
   "execution_count": 71,
   "id": "f07c1a4c-ea8f-443c-a12d-b64f13f93e83",
   "metadata": {},
   "outputs": [],
   "source": [
    "#Indexing , Slicing and Subsetting Commands"
   ]
  },
  {
   "cell_type": "code",
   "execution_count": 72,
   "id": "f5774a38-1344-4373-886d-6b2380496799",
   "metadata": {},
   "outputs": [
    {
     "data": {
      "text/plain": [
       "1"
      ]
     },
     "execution_count": 72,
     "metadata": {},
     "output_type": "execute_result"
    }
   ],
   "source": [
    "a[0]"
   ]
  },
  {
   "cell_type": "code",
   "execution_count": 74,
   "id": "c976f455-4530-491f-90fb-a68999e0e604",
   "metadata": {},
   "outputs": [
    {
     "data": {
      "text/plain": [
       "99"
      ]
     },
     "execution_count": 74,
     "metadata": {},
     "output_type": "execute_result"
    }
   ],
   "source": [
    "a[49]"
   ]
  },
  {
   "cell_type": "code",
   "execution_count": 75,
   "id": "b095f32f-466e-46c6-9f41-a1da38875dfc",
   "metadata": {},
   "outputs": [
    {
     "data": {
      "text/plain": [
       "array([ 1,  3,  5,  7,  9, 11, 13, 15, 17, 19])"
      ]
     },
     "execution_count": 75,
     "metadata": {},
     "output_type": "execute_result"
    }
   ],
   "source": [
    "a[0:10]"
   ]
  },
  {
   "cell_type": "code",
   "execution_count": 77,
   "id": "bbe7887c-29cc-47e3-8bb6-a6836b5abf25",
   "metadata": {},
   "outputs": [
    {
     "data": {
      "text/plain": [
       "99"
      ]
     },
     "execution_count": 77,
     "metadata": {},
     "output_type": "execute_result"
    }
   ],
   "source": [
    "a[-1]"
   ]
  },
  {
   "cell_type": "code",
   "execution_count": 78,
   "id": "ca3075f9-40f0-4c1e-a131-8e35721eeff8",
   "metadata": {},
   "outputs": [
    {
     "data": {
      "text/plain": [
       "array([ 1,  3,  5,  7,  9, 11, 13, 15, 17, 19, 21, 23, 25, 27, 29, 31, 33,\n",
       "       35, 37])"
      ]
     },
     "execution_count": 78,
     "metadata": {},
     "output_type": "execute_result"
    }
   ],
   "source": [
    "a[:19]"
   ]
  },
  {
   "cell_type": "code",
   "execution_count": 79,
   "id": "11099436-176e-4f8e-a520-66bf486fc379",
   "metadata": {},
   "outputs": [
    {
     "data": {
      "text/plain": [
       "array([ 3,  5,  7,  9, 11, 13, 15, 17, 19, 21, 23, 25, 27, 29, 31, 33, 35,\n",
       "       37, 39, 41, 43, 45, 47, 49, 51, 53, 55, 57, 59, 61, 63, 65, 67, 69,\n",
       "       71, 73, 75, 77, 79, 81, 83, 85, 87, 89, 91, 93, 95, 97, 99])"
      ]
     },
     "execution_count": 79,
     "metadata": {},
     "output_type": "execute_result"
    }
   ],
   "source": [
    "a[1:]"
   ]
  },
  {
   "cell_type": "code",
   "execution_count": 80,
   "id": "3057163c-575b-4a0d-86da-d774b98794fc",
   "metadata": {},
   "outputs": [],
   "source": [
    "#Sclar Math command"
   ]
  },
  {
   "cell_type": "code",
   "execution_count": 82,
   "id": "37d7aff8-2d92-4b78-b8dc-5b6b7708d462",
   "metadata": {},
   "outputs": [],
   "source": [
    "a = np.arange(0 , 20 , 2)"
   ]
  },
  {
   "cell_type": "code",
   "execution_count": 83,
   "id": "b42f0447-743f-4d64-9a53-306e748191a2",
   "metadata": {},
   "outputs": [
    {
     "data": {
      "text/plain": [
       "array([ 0,  2,  4,  6,  8, 10, 12, 14, 16, 18])"
      ]
     },
     "execution_count": 83,
     "metadata": {},
     "output_type": "execute_result"
    }
   ],
   "source": [
    "a"
   ]
  },
  {
   "cell_type": "code",
   "execution_count": 84,
   "id": "2f3660e0-2911-44b2-b65e-50fad3e31cbb",
   "metadata": {},
   "outputs": [
    {
     "data": {
      "text/plain": [
       "array([ 2,  4,  6,  8, 10, 12, 14, 16, 18, 20])"
      ]
     },
     "execution_count": 84,
     "metadata": {},
     "output_type": "execute_result"
    }
   ],
   "source": [
    "np.add(a , 2)"
   ]
  },
  {
   "cell_type": "code",
   "execution_count": 85,
   "id": "64898f92-0fdd-4e4d-bdd5-465aea13d6dc",
   "metadata": {},
   "outputs": [
    {
     "data": {
      "text/plain": [
       "array([-1,  1,  3,  5,  7,  9, 11, 13, 15, 17])"
      ]
     },
     "execution_count": 85,
     "metadata": {},
     "output_type": "execute_result"
    }
   ],
   "source": [
    "np.subtract(a, 1)"
   ]
  },
  {
   "cell_type": "code",
   "execution_count": 86,
   "id": "63db661e-3745-4f8b-b162-2a0f811248f5",
   "metadata": {},
   "outputs": [
    {
     "data": {
      "text/plain": [
       "array([ 0,  4,  8, 12, 16, 20, 24, 28, 32, 36])"
      ]
     },
     "execution_count": 86,
     "metadata": {},
     "output_type": "execute_result"
    }
   ],
   "source": [
    "np.multiply(a , 2)"
   ]
  },
  {
   "cell_type": "code",
   "execution_count": 87,
   "id": "358029ca-b04d-45c3-bb8d-b59538e237ae",
   "metadata": {},
   "outputs": [
    {
     "data": {
      "text/plain": [
       "array([0., 1., 2., 3., 4., 5., 6., 7., 8., 9.])"
      ]
     },
     "execution_count": 87,
     "metadata": {},
     "output_type": "execute_result"
    }
   ],
   "source": [
    "np.divide(a,2)"
   ]
  },
  {
   "cell_type": "code",
   "execution_count": 88,
   "id": "c59e0c3f-e012-4100-83c9-cfc4106dcc23",
   "metadata": {},
   "outputs": [
    {
     "data": {
      "text/plain": [
       "array([  0,   4,  16,  36,  64, 100, 144, 196, 256, 324], dtype=int32)"
      ]
     },
     "execution_count": 88,
     "metadata": {},
     "output_type": "execute_result"
    }
   ],
   "source": [
    "np.power(a , 2)"
   ]
  },
  {
   "cell_type": "code",
   "execution_count": null,
   "id": "65a91b26-ec55-4dda-a534-750aab05db83",
   "metadata": {},
   "outputs": [],
   "source": [
    "#vector Math commands"
   ]
  },
  {
   "cell_type": "code",
   "execution_count": 89,
   "id": "323e243d-b475-4289-a53f-4ccacca4e505",
   "metadata": {},
   "outputs": [
    {
     "data": {
      "text/plain": [
       "array([ 0,  2,  4,  6,  8, 10, 12, 14, 16, 18])"
      ]
     },
     "execution_count": 89,
     "metadata": {},
     "output_type": "execute_result"
    }
   ],
   "source": [
    "a"
   ]
  },
  {
   "cell_type": "code",
   "execution_count": 91,
   "id": "38f3f687-d1a0-4744-86cc-acf08369daab",
   "metadata": {},
   "outputs": [],
   "source": [
    "b = np.arange(20 , 40 , 2)"
   ]
  },
  {
   "cell_type": "code",
   "execution_count": 92,
   "id": "843cfafa-ff1a-46e0-92dd-35828d8b1125",
   "metadata": {},
   "outputs": [
    {
     "data": {
      "text/plain": [
       "array([20, 22, 24, 26, 28, 30, 32, 34, 36, 38])"
      ]
     },
     "execution_count": 92,
     "metadata": {},
     "output_type": "execute_result"
    }
   ],
   "source": [
    "b"
   ]
  },
  {
   "cell_type": "code",
   "execution_count": 93,
   "id": "322f9753-280e-49ca-a759-8d7644adb7ea",
   "metadata": {},
   "outputs": [
    {
     "data": {
      "text/plain": [
       "array([20, 24, 28, 32, 36, 40, 44, 48, 52, 56])"
      ]
     },
     "execution_count": 93,
     "metadata": {},
     "output_type": "execute_result"
    }
   ],
   "source": [
    "np.add(a, b)"
   ]
  },
  {
   "cell_type": "code",
   "execution_count": 94,
   "id": "4614d281-e2a9-40e6-8782-cf5435dd1584",
   "metadata": {},
   "outputs": [
    {
     "data": {
      "text/plain": [
       "array([-20, -20, -20, -20, -20, -20, -20, -20, -20, -20])"
      ]
     },
     "execution_count": 94,
     "metadata": {},
     "output_type": "execute_result"
    }
   ],
   "source": [
    "np.subtract(a , b)"
   ]
  },
  {
   "cell_type": "code",
   "execution_count": 95,
   "id": "51ec9cf7-b1e5-4c4b-a394-e2aa26647b11",
   "metadata": {},
   "outputs": [
    {
     "data": {
      "text/plain": [
       "array([  0,  44,  96, 156, 224, 300, 384, 476, 576, 684])"
      ]
     },
     "execution_count": 95,
     "metadata": {},
     "output_type": "execute_result"
    }
   ],
   "source": [
    "np.multiply(a, b)"
   ]
  },
  {
   "cell_type": "code",
   "execution_count": 97,
   "id": "7ebcdbec-ab87-4d31-9593-f774c58313cc",
   "metadata": {},
   "outputs": [
    {
     "data": {
      "text/plain": [
       "array([0.        , 0.09090909, 0.16666667, 0.23076923, 0.28571429,\n",
       "       0.33333333, 0.375     , 0.41176471, 0.44444444, 0.47368421])"
      ]
     },
     "execution_count": 97,
     "metadata": {},
     "output_type": "execute_result"
    }
   ],
   "source": [
    "np.divide(a, b)"
   ]
  },
  {
   "cell_type": "code",
   "execution_count": 98,
   "id": "57ee9c25-fa5d-4e8b-8eef-72247797b104",
   "metadata": {},
   "outputs": [],
   "source": [
    "#statistics command"
   ]
  },
  {
   "cell_type": "code",
   "execution_count": 100,
   "id": "0e240fe1-94da-43de-978e-a4b62ba9c0da",
   "metadata": {},
   "outputs": [
    {
     "data": {
      "text/plain": [
       "array([ 0,  2,  4,  6,  8, 10, 12, 14, 16, 18])"
      ]
     },
     "execution_count": 100,
     "metadata": {},
     "output_type": "execute_result"
    }
   ],
   "source": [
    "a"
   ]
  },
  {
   "cell_type": "code",
   "execution_count": 101,
   "id": "00837de1-fb3a-48d0-a56f-e4a0e7318829",
   "metadata": {
    "scrolled": true
   },
   "outputs": [
    {
     "data": {
      "text/plain": [
       "90"
      ]
     },
     "execution_count": 101,
     "metadata": {},
     "output_type": "execute_result"
    }
   ],
   "source": [
    "a.sum()"
   ]
  },
  {
   "cell_type": "code",
   "execution_count": 102,
   "id": "924c85d9-ae8f-4d5e-8a74-70c3336f33aa",
   "metadata": {},
   "outputs": [
    {
     "data": {
      "text/plain": [
       "9.0"
      ]
     },
     "execution_count": 102,
     "metadata": {},
     "output_type": "execute_result"
    }
   ],
   "source": [
    "a.mean()"
   ]
  },
  {
   "cell_type": "code",
   "execution_count": 103,
   "id": "95b77e60-f86f-423d-9382-10dbd62f41b6",
   "metadata": {},
   "outputs": [
    {
     "data": {
      "text/plain": [
       "18"
      ]
     },
     "execution_count": 103,
     "metadata": {},
     "output_type": "execute_result"
    }
   ],
   "source": [
    "a.max()"
   ]
  },
  {
   "cell_type": "code",
   "execution_count": 104,
   "id": "2f2f4eb2-e94f-4d13-8593-1efdfb9c41de",
   "metadata": {},
   "outputs": [
    {
     "data": {
      "text/plain": [
       "33.0"
      ]
     },
     "execution_count": 104,
     "metadata": {},
     "output_type": "execute_result"
    }
   ],
   "source": [
    "np.var(a)"
   ]
  },
  {
   "cell_type": "code",
   "execution_count": 105,
   "id": "51f48d9a-d570-462d-8dc0-6e082065a908",
   "metadata": {},
   "outputs": [
    {
     "data": {
      "text/plain": [
       "5.744562646538029"
      ]
     },
     "execution_count": 105,
     "metadata": {},
     "output_type": "execute_result"
    }
   ],
   "source": [
    "np.std(a)"
   ]
  },
  {
   "cell_type": "code",
   "execution_count": 106,
   "id": "5272f442-6d09-48c3-95bb-dd8b20c54216",
   "metadata": {},
   "outputs": [],
   "source": [
    "#combining and splitting commands"
   ]
  },
  {
   "cell_type": "code",
   "execution_count": 107,
   "id": "8d5df2b4-afda-4b02-8222-420e2db52ec6",
   "metadata": {},
   "outputs": [
    {
     "data": {
      "text/plain": [
       "array([ 0,  2,  4,  6,  8, 10, 12, 14, 16, 18])"
      ]
     },
     "execution_count": 107,
     "metadata": {},
     "output_type": "execute_result"
    }
   ],
   "source": [
    "a"
   ]
  },
  {
   "cell_type": "code",
   "execution_count": 108,
   "id": "ee332e90-a0d8-482a-97a2-709078d61f7b",
   "metadata": {},
   "outputs": [
    {
     "data": {
      "text/plain": [
       "array([20, 22, 24, 26, 28, 30, 32, 34, 36, 38])"
      ]
     },
     "execution_count": 108,
     "metadata": {},
     "output_type": "execute_result"
    }
   ],
   "source": [
    "b"
   ]
  },
  {
   "cell_type": "code",
   "execution_count": 110,
   "id": "996b3d1f-2857-4a06-b9a9-3aedb4190345",
   "metadata": {},
   "outputs": [
    {
     "data": {
      "text/plain": [
       "array([ 0,  2,  4,  6,  8, 10, 12, 14, 16, 18, 20, 22, 24, 26, 28, 30, 32,\n",
       "       34, 36, 38])"
      ]
     },
     "execution_count": 110,
     "metadata": {},
     "output_type": "execute_result"
    }
   ],
   "source": [
    "np.concatenate((a , b) , axis = 0)"
   ]
  },
  {
   "cell_type": "code",
   "execution_count": 113,
   "id": "44762a39-cb7d-456c-a25b-5697a6cb4fa2",
   "metadata": {},
   "outputs": [
    {
     "data": {
      "text/plain": [
       "[array([0, 2]),\n",
       " array([4, 6]),\n",
       " array([ 8, 10]),\n",
       " array([12, 14]),\n",
       " array([16, 18])]"
      ]
     },
     "execution_count": 113,
     "metadata": {},
     "output_type": "execute_result"
    }
   ],
   "source": [
    "np.split(a,5)"
   ]
  },
  {
   "cell_type": "code",
   "execution_count": 114,
   "id": "50e0ced8-f63e-455e-9045-92c40a70237b",
   "metadata": {},
   "outputs": [],
   "source": [
    "import numpy as np"
   ]
  },
  {
   "cell_type": "code",
   "execution_count": 115,
   "id": "7b45dab5-b78e-46c2-a353-8e376e1fcbf6",
   "metadata": {},
   "outputs": [
    {
     "name": "stdout",
     "output_type": "stream",
     "text": [
      "[1 2 3 4 5]\n"
     ]
    }
   ],
   "source": [
    "arr = np.array([ 1 , 2 , 3 , 4 , 5])\n",
    "print(arr)"
   ]
  },
  {
   "cell_type": "code",
   "execution_count": 117,
   "id": "a96f7783-eb75-41d5-9026-9ff9dbfa56d8",
   "metadata": {},
   "outputs": [
    {
     "name": "stdout",
     "output_type": "stream",
     "text": [
      "[[1 2 2]\n",
      " [4 5 6]]\n"
     ]
    }
   ],
   "source": [
    "arr_2d = np.array([[1,2,2],[4,5,6]])\n",
    "print(arr_2d)"
   ]
  },
  {
   "cell_type": "code",
   "execution_count": 118,
   "id": "c8c68131-fff3-4c4e-97a7-6dd14e6d8bf5",
   "metadata": {},
   "outputs": [
    {
     "data": {
      "text/plain": [
       "list"
      ]
     },
     "execution_count": 118,
     "metadata": {},
     "output_type": "execute_result"
    }
   ],
   "source": [
    "my_list = [1 , 2 , 3 , 4]\n",
    "type(my_list)"
   ]
  },
  {
   "cell_type": "code",
   "execution_count": 119,
   "id": "31a20e9c-f0b5-415d-8821-de50257cff46",
   "metadata": {},
   "outputs": [
    {
     "name": "stdout",
     "output_type": "stream",
     "text": [
      "[1 2 3 4]\n"
     ]
    }
   ],
   "source": [
    "arr = np.array(my_list)\n",
    "print(arr)"
   ]
  },
  {
   "cell_type": "code",
   "execution_count": 120,
   "id": "cbf4119f-afd1-464a-8540-3bb663c3900b",
   "metadata": {},
   "outputs": [
    {
     "data": {
      "text/plain": [
       "array([1, 2, 3, 4])"
      ]
     },
     "execution_count": 120,
     "metadata": {},
     "output_type": "execute_result"
    }
   ],
   "source": [
    "arr"
   ]
  },
  {
   "cell_type": "code",
   "execution_count": 121,
   "id": "4971aef2-cc66-4538-bfdc-e0dff1177a43",
   "metadata": {},
   "outputs": [
    {
     "data": {
      "text/plain": [
       "numpy.ndarray"
      ]
     },
     "execution_count": 121,
     "metadata": {},
     "output_type": "execute_result"
    }
   ],
   "source": [
    "type(arr)"
   ]
  },
  {
   "cell_type": "code",
   "execution_count": 122,
   "id": "ab3f6315-6252-424d-96c9-d0a23ec01b12",
   "metadata": {},
   "outputs": [
    {
     "data": {
      "text/plain": [
       "1"
      ]
     },
     "execution_count": 122,
     "metadata": {},
     "output_type": "execute_result"
    }
   ],
   "source": [
    "arr.ndim"
   ]
  },
  {
   "cell_type": "code",
   "execution_count": null,
   "id": "1f34a93a-ca06-46ee-80a8-1de6478bf4e6",
   "metadata": {},
   "outputs": [],
   "source": [
    "#creating array witk Zores And Ones"
   ]
  },
  {
   "cell_type": "code",
   "execution_count": 128,
   "id": "0412353a-f21e-466c-b7c4-df81cb7f6011",
   "metadata": {},
   "outputs": [
    {
     "name": "stdout",
     "output_type": "stream",
     "text": [
      "Array of Zeros:\n",
      "[[0 0 0]\n",
      " [0 0 0]]\n"
     ]
    }
   ],
   "source": [
    "import numpy as np\n",
    "\n",
    "zeros = np.zeros((2, 3), dtype=int)\n",
    "print(\"Array of Zeros:\")\n",
    "print(zeros)\n"
   ]
  },
  {
   "cell_type": "code",
   "execution_count": 130,
   "id": "4dca67c1-7faa-4aff-8351-1b847248fb24",
   "metadata": {},
   "outputs": [
    {
     "name": "stdout",
     "output_type": "stream",
     "text": [
      "Array of ones\n",
      "[[1. 1.]\n",
      " [1. 1.]\n",
      " [1. 1.]]\n"
     ]
    }
   ],
   "source": [
    "ones = np.ones((3,2))\n",
    "print(\"Array of ones\")\n",
    "print(ones)"
   ]
  },
  {
   "cell_type": "code",
   "execution_count": 131,
   "id": "ccd846ab-1c96-45eb-9bdc-5e36df8c1f15",
   "metadata": {},
   "outputs": [
    {
     "name": "stdout",
     "output_type": "stream",
     "text": [
      "Array with a range of valuess:\n",
      "[0 1 2 3 4 5 6 7 8 9]\n"
     ]
    }
   ],
   "source": [
    "range_array = np.arange(10)\n",
    "print(\"Array with a range of valuess:\")\n",
    "print(range_array)"
   ]
  },
  {
   "cell_type": "code",
   "execution_count": 132,
   "id": "12717e59-a9ad-4a3e-8002-94d17f5fc782",
   "metadata": {},
   "outputs": [
    {
     "name": "stdout",
     "output_type": "stream",
     "text": [
      "Array with a range of valuess:\n",
      "[1 3 5 7 9]\n"
     ]
    }
   ],
   "source": [
    "range_array_step = np.arange(1 ,10 , 2)\n",
    "print(\"Array with a range of valuess:\")\n",
    "print(range_array_step)"
   ]
  },
  {
   "cell_type": "code",
   "execution_count": 135,
   "id": "3586a4ad-ac9f-4498-b5c9-07995e81255f",
   "metadata": {},
   "outputs": [],
   "source": [
    "Vector_row = np.array([1 , 2 , 3])"
   ]
  },
  {
   "cell_type": "code",
   "execution_count": 136,
   "id": "5333e855-eeab-45f2-99f7-0c226989db49",
   "metadata": {},
   "outputs": [
    {
     "data": {
      "text/plain": [
       "array([1, 2, 3])"
      ]
     },
     "execution_count": 136,
     "metadata": {},
     "output_type": "execute_result"
    }
   ],
   "source": [
    "Vector_row"
   ]
  },
  {
   "cell_type": "code",
   "execution_count": 137,
   "id": "12455c2f-de30-420f-a36a-54588371d84c",
   "metadata": {},
   "outputs": [
    {
     "name": "stdout",
     "output_type": "stream",
     "text": [
      "[1 2]\n"
     ]
    }
   ],
   "source": [
    "print(Vector_row[:2])"
   ]
  },
  {
   "cell_type": "code",
   "execution_count": 138,
   "id": "8608fa9a-376d-4d29-81fb-01191407c02d",
   "metadata": {},
   "outputs": [
    {
     "name": "stdout",
     "output_type": "stream",
     "text": [
      "3\n"
     ]
    }
   ],
   "source": [
    "print(Vector_row[2])"
   ]
  },
  {
   "cell_type": "code",
   "execution_count": 139,
   "id": "cda5d9d3-3ea3-48c7-b3fe-d35e0161ede9",
   "metadata": {},
   "outputs": [],
   "source": [
    "Vector_column = np.array([[1] , [2] , [3]])"
   ]
  },
  {
   "cell_type": "code",
   "execution_count": 140,
   "id": "3cc5c869-deb7-45a2-8083-d3547c6baddb",
   "metadata": {},
   "outputs": [
    {
     "data": {
      "text/plain": [
       "array([[1],\n",
       "       [2],\n",
       "       [3]])"
      ]
     },
     "execution_count": 140,
     "metadata": {},
     "output_type": "execute_result"
    }
   ],
   "source": [
    "Vector_column"
   ]
  },
  {
   "cell_type": "code",
   "execution_count": 142,
   "id": "5728b58e-e459-48cc-be61-71eea7ea5533",
   "metadata": {},
   "outputs": [
    {
     "data": {
      "text/plain": [
       "2"
      ]
     },
     "execution_count": 142,
     "metadata": {},
     "output_type": "execute_result"
    }
   ],
   "source": [
    "Vector_column.ndim"
   ]
  },
  {
   "cell_type": "code",
   "execution_count": 143,
   "id": "39b47177-c968-4f79-b195-28e2edece28f",
   "metadata": {},
   "outputs": [
    {
     "name": "stdout",
     "output_type": "stream",
     "text": [
      "3\n"
     ]
    }
   ],
   "source": [
    "print(Vector_column.size)"
   ]
  },
  {
   "cell_type": "code",
   "execution_count": 146,
   "id": "e7067e83-62ed-4757-baf6-08bb36b16761",
   "metadata": {},
   "outputs": [
    {
     "data": {
      "text/plain": [
       "array([[ 1,  2,  3],\n",
       "       [ 4,  5,  6],\n",
       "       [ 5,  9,  0],\n",
       "       [ 9,  8, 10],\n",
       "       [ 5,  4,  3]])"
      ]
     },
     "execution_count": 146,
     "metadata": {},
     "output_type": "execute_result"
    }
   ],
   "source": [
    "matrix = np.array([[1,2,3],[4,5,6],[5,9,0],[9,8,10,],[5,4,3]])\n",
    "matrix"
   ]
  },
  {
   "cell_type": "code",
   "execution_count": 147,
   "id": "e3b482c2-bfb8-4396-99b4-88979e725554",
   "metadata": {},
   "outputs": [
    {
     "name": "stdout",
     "output_type": "stream",
     "text": [
      "[[4 3]]\n"
     ]
    }
   ],
   "source": [
    "print(matrix[4: , 1:])"
   ]
  },
  {
   "cell_type": "code",
   "execution_count": 148,
   "id": "eb577a19-8634-4f20-8e26-f38c7aae3bb8",
   "metadata": {},
   "outputs": [
    {
     "data": {
      "text/plain": [
       "array([4, 3])"
      ]
     },
     "execution_count": 148,
     "metadata": {},
     "output_type": "execute_result"
    }
   ],
   "source": [
    "matrix[4 , -2:]"
   ]
  },
  {
   "cell_type": "code",
   "execution_count": 149,
   "id": "43cd637e-8f23-432d-9669-f6c682052039",
   "metadata": {},
   "outputs": [
    {
     "name": "stdout",
     "output_type": "stream",
     "text": [
      "(5, 3)\n"
     ]
    }
   ],
   "source": [
    "print(matrix.shape)"
   ]
  },
  {
   "cell_type": "code",
   "execution_count": 150,
   "id": "83b2d9ce-5ac8-4db2-9bb1-f9a3dd4e39ac",
   "metadata": {},
   "outputs": [
    {
     "name": "stdout",
     "output_type": "stream",
     "text": [
      "[[2]\n",
      " [5]\n",
      " [9]\n",
      " [8]\n",
      " [4]]\n"
     ]
    }
   ],
   "source": [
    "print(matrix[ : , 1:2])"
   ]
  },
  {
   "cell_type": "code",
   "execution_count": 151,
   "id": "0fc615ad-0661-4ed9-80d9-a6871d35425e",
   "metadata": {},
   "outputs": [
    {
     "name": "stdout",
     "output_type": "stream",
     "text": [
      "[[5 9]\n",
      " [9 8]]\n"
     ]
    }
   ],
   "source": [
    "print(matrix[2:4 , 0:2])"
   ]
  },
  {
   "cell_type": "code",
   "execution_count": 152,
   "id": "1562364a-7142-4e85-80ec-28a721854af7",
   "metadata": {},
   "outputs": [
    {
     "name": "stdout",
     "output_type": "stream",
     "text": [
      "[[ 8 10]]\n"
     ]
    }
   ],
   "source": [
    "print(matrix[3:4 , 1:3])"
   ]
  },
  {
   "cell_type": "code",
   "execution_count": 153,
   "id": "c2e06886-8b16-471a-93c7-c49d0810e6a4",
   "metadata": {},
   "outputs": [
    {
     "name": "stdout",
     "output_type": "stream",
     "text": [
      "15\n"
     ]
    }
   ],
   "source": [
    "print(matrix.size)"
   ]
  },
  {
   "cell_type": "code",
   "execution_count": 154,
   "id": "ff97ac71-0627-491a-b06f-9e75682c2b90",
   "metadata": {},
   "outputs": [
    {
     "name": "stdout",
     "output_type": "stream",
     "text": [
      "10\n"
     ]
    }
   ],
   "source": [
    "print(np.max(matrix))"
   ]
  },
  {
   "cell_type": "code",
   "execution_count": 155,
   "id": "40bc3239-299e-4288-ad52-97cb7b026875",
   "metadata": {},
   "outputs": [
    {
     "name": "stdout",
     "output_type": "stream",
     "text": [
      "0\n"
     ]
    }
   ],
   "source": [
    "print(np.min(matrix))"
   ]
  },
  {
   "cell_type": "code",
   "execution_count": 156,
   "id": "ecd36562-6512-40f9-b0d6-056863e51345",
   "metadata": {},
   "outputs": [
    {
     "name": "stdout",
     "output_type": "stream",
     "text": [
      "[ 9  9 10]\n"
     ]
    }
   ],
   "source": [
    "print(np.max(matrix , axis = 0))"
   ]
  },
  {
   "cell_type": "code",
   "execution_count": 157,
   "id": "18cb62fb-04a3-47c6-9ff5-99195c538aba",
   "metadata": {},
   "outputs": [
    {
     "name": "stdout",
     "output_type": "stream",
     "text": [
      "[ 3  6  9 10  5]\n"
     ]
    }
   ],
   "source": [
    "print(np.max(matrix , axis = 1))"
   ]
  },
  {
   "cell_type": "code",
   "execution_count": 158,
   "id": "d6127e54-c9e9-4624-ad7c-749198798408",
   "metadata": {},
   "outputs": [
    {
     "name": "stdout",
     "output_type": "stream",
     "text": [
      "[2.         5.         4.66666667 9.         4.        ]\n"
     ]
    }
   ],
   "source": [
    "print(np.mean(matrix , axis = 1))"
   ]
  },
  {
   "cell_type": "code",
   "execution_count": 159,
   "id": "3e0e9b48-e3a0-4b4d-91cb-4f7984a65821",
   "metadata": {},
   "outputs": [
    {
     "name": "stdout",
     "output_type": "stream",
     "text": [
      "[[ 1  2  3  4  5  6  5  9  0  9  8 10  5  4  3]]\n"
     ]
    }
   ],
   "source": [
    "print(matrix.reshape(1 , 15))"
   ]
  },
  {
   "cell_type": "code",
   "execution_count": 160,
   "id": "b7c5abc9-dd21-46c0-879a-a90a171f9d64",
   "metadata": {},
   "outputs": [],
   "source": [
    "matrix_1 = np.array([[1 , 2 , 3] , [ 6 , 5 ,6] , [ 7 , 7 , 9]])"
   ]
  },
  {
   "cell_type": "code",
   "execution_count": 162,
   "id": "dcdbf1e5-e304-4fc1-b3cf-c94050ddfee2",
   "metadata": {},
   "outputs": [
    {
     "data": {
      "text/plain": [
       "array([[1, 2, 3],\n",
       "       [6, 5, 6],\n",
       "       [7, 7, 9]])"
      ]
     },
     "execution_count": 162,
     "metadata": {},
     "output_type": "execute_result"
    }
   ],
   "source": [
    "matrix_1"
   ]
  },
  {
   "cell_type": "code",
   "execution_count": 163,
   "id": "d92646f1-ecdb-46ec-a7e3-22cb0714e10e",
   "metadata": {},
   "outputs": [],
   "source": [
    "matrix_2 = np.array([[7,8,9] , [4,5,6] , [1,2,3]])"
   ]
  },
  {
   "cell_type": "code",
   "execution_count": 164,
   "id": "51969c14-e128-46f4-8da1-db861332f595",
   "metadata": {},
   "outputs": [
    {
     "data": {
      "text/plain": [
       "array([[7, 8, 9],\n",
       "       [4, 5, 6],\n",
       "       [1, 2, 3]])"
      ]
     },
     "execution_count": 164,
     "metadata": {},
     "output_type": "execute_result"
    }
   ],
   "source": [
    "matrix_2"
   ]
  },
  {
   "cell_type": "code",
   "execution_count": 167,
   "id": "e878158d-9cd0-4dd6-9c74-d6510c9ee1be",
   "metadata": {},
   "outputs": [
    {
     "name": "stdout",
     "output_type": "stream",
     "text": [
      "[[ 8 10 12]\n",
      " [10 10 12]\n",
      " [ 8  9 12]]\n"
     ]
    }
   ],
   "source": [
    "print(np.add(matrix_1 , matrix_2))"
   ]
  },
  {
   "cell_type": "code",
   "execution_count": 168,
   "id": "5a5b4fee-a332-43d7-829b-067ed5bf147a",
   "metadata": {},
   "outputs": [
    {
     "data": {
      "text/plain": [
       "array([[ 8, 10, 12],\n",
       "       [10, 10, 12],\n",
       "       [ 8,  9, 12]])"
      ]
     },
     "execution_count": 168,
     "metadata": {},
     "output_type": "execute_result"
    }
   ],
   "source": [
    "matrix_1 + matrix_2"
   ]
  },
  {
   "cell_type": "code",
   "execution_count": 169,
   "id": "1e4c301a-ff85-4fba-afa6-bd00addaaabe",
   "metadata": {},
   "outputs": [
    {
     "name": "stdout",
     "output_type": "stream",
     "text": [
      "[[-6 -6 -6]\n",
      " [ 2  0  0]\n",
      " [ 6  5  6]]\n"
     ]
    }
   ],
   "source": [
    "print(np.subtract(matrix_1 , matrix_2))"
   ]
  },
  {
   "cell_type": "code",
   "execution_count": 170,
   "id": "495d795c-da89-49c2-ba2e-2faa66758a47",
   "metadata": {},
   "outputs": [
    {
     "data": {
      "text/plain": [
       "array([[-6, -6, -6],\n",
       "       [ 2,  0,  0],\n",
       "       [ 6,  5,  6]])"
      ]
     },
     "execution_count": 170,
     "metadata": {},
     "output_type": "execute_result"
    }
   ],
   "source": [
    "matrix_1 - matrix_2"
   ]
  },
  {
   "cell_type": "code",
   "execution_count": 171,
   "id": "c3503612-0416-45ea-88c1-3b6840be90a6",
   "metadata": {},
   "outputs": [
    {
     "name": "stdout",
     "output_type": "stream",
     "text": [
      "[[ 7 16 27]\n",
      " [24 25 36]\n",
      " [ 7 14 27]]\n"
     ]
    }
   ],
   "source": [
    "print(matrix_1 * matrix_2)"
   ]
  },
  {
   "cell_type": "code",
   "execution_count": 2,
   "id": "62d61958-d341-4bd9-8205-92d3293c3359",
   "metadata": {},
   "outputs": [],
   "source": [
    "import numpy as np"
   ]
  },
  {
   "cell_type": "code",
   "execution_count": 3,
   "id": "152d038f-b66d-4926-a4f0-a18f9eccabc0",
   "metadata": {},
   "outputs": [],
   "source": [
    "x = np.array([[1 ,2],[3,4]])\n",
    "y = np.array([[12 , 30]])"
   ]
  },
  {
   "cell_type": "code",
   "execution_count": 4,
   "id": "66897f5c-e6bb-47e0-adc5-0df6ca9acc82",
   "metadata": {},
   "outputs": [
    {
     "data": {
      "text/plain": [
       "array([[1, 2],\n",
       "       [3, 4]])"
      ]
     },
     "execution_count": 4,
     "metadata": {},
     "output_type": "execute_result"
    }
   ],
   "source": [
    "x"
   ]
  },
  {
   "cell_type": "code",
   "execution_count": 5,
   "id": "c44d4361-1daf-4d37-827a-b8850c949e98",
   "metadata": {},
   "outputs": [
    {
     "data": {
      "text/plain": [
       "array([[12, 30]])"
      ]
     },
     "execution_count": 5,
     "metadata": {},
     "output_type": "execute_result"
    }
   ],
   "source": [
    "y"
   ]
  },
  {
   "cell_type": "code",
   "execution_count": 7,
   "id": "981773bd-d8ee-4052-b48e-1d1098e6a465",
   "metadata": {},
   "outputs": [],
   "source": [
    "z = np.concatenate((x , y) , axis = 0)"
   ]
  },
  {
   "cell_type": "code",
   "execution_count": 179,
   "id": "f4b2413e-b687-4047-b4d8-7a4d2f3d0125",
   "metadata": {},
   "outputs": [
    {
     "data": {
      "text/plain": [
       "array([[ 1,  2],\n",
       "       [ 3,  4],\n",
       "       [12, 30]])"
      ]
     },
     "execution_count": 179,
     "metadata": {},
     "output_type": "execute_result"
    }
   ],
   "source": [
    "z"
   ]
  },
  {
   "cell_type": "code",
   "execution_count": 184,
   "id": "9d0761a9-c99c-47af-b33d-2c6c6b480551",
   "metadata": {},
   "outputs": [],
   "source": [
    "x = np.array([[1,2] , [3 , 4]])\n",
    "y = np.array([[12,30]])\n",
    "z = np.concatenate((x,y.T) , axis = 1)"
   ]
  },
  {
   "cell_type": "code",
   "execution_count": 185,
   "id": "8280d60e-53c7-4f88-991e-7627c9fb1759",
   "metadata": {},
   "outputs": [
    {
     "data": {
      "text/plain": [
       "array([[ 1,  2, 12],\n",
       "       [ 3,  4, 30]])"
      ]
     },
     "execution_count": 185,
     "metadata": {},
     "output_type": "execute_result"
    }
   ],
   "source": [
    "z"
   ]
  },
  {
   "cell_type": "code",
   "execution_count": 187,
   "id": "ecad44f3-82f5-4778-8687-ad03c1b6306f",
   "metadata": {},
   "outputs": [
    {
     "data": {
      "text/plain": [
       "array([0., 0., 0., 0., 0.])"
      ]
     },
     "execution_count": 187,
     "metadata": {},
     "output_type": "execute_result"
    }
   ],
   "source": [
    "a = np.zeros(5)\n",
    "a"
   ]
  },
  {
   "cell_type": "code",
   "execution_count": 189,
   "id": "732cd3fa-0dc9-4ccc-9367-c9e6d3af3476",
   "metadata": {},
   "outputs": [
    {
     "data": {
      "text/plain": [
       "array([0, 0, 0, 0, 0, 0])"
      ]
     },
     "execution_count": 189,
     "metadata": {},
     "output_type": "execute_result"
    }
   ],
   "source": [
    "a = np.zeros((6 ,) , dtype = int)\n",
    "a"
   ]
  },
  {
   "cell_type": "code",
   "execution_count": 190,
   "id": "ef1e1e19-666a-4004-8b5d-3c3967759d4a",
   "metadata": {},
   "outputs": [
    {
     "data": {
      "text/plain": [
       "array([[0., 0.],\n",
       "       [0., 0.],\n",
       "       [0., 0.],\n",
       "       [0., 0.],\n",
       "       [0., 0.],\n",
       "       [0., 0.]])"
      ]
     },
     "execution_count": 190,
     "metadata": {},
     "output_type": "execute_result"
    }
   ],
   "source": [
    "a = np.zeros((6 , 2))\n",
    "a"
   ]
  },
  {
   "cell_type": "code",
   "execution_count": 192,
   "id": "002bb667-f42c-4f97-8e71-55527c086a4d",
   "metadata": {},
   "outputs": [
    {
     "data": {
      "text/plain": [
       "array([[1],\n",
       "       [1],\n",
       "       [1],\n",
       "       [1],\n",
       "       [1],\n",
       "       [1]])"
      ]
     },
     "execution_count": 192,
     "metadata": {},
     "output_type": "execute_result"
    }
   ],
   "source": [
    "a = np.ones((6 , 1) ,dtype = int)\n",
    "a"
   ]
  },
  {
   "cell_type": "code",
   "execution_count": 193,
   "id": "c93bacc1-4aa8-4956-9f21-10e72909aa54",
   "metadata": {},
   "outputs": [],
   "source": [
    "size = 5"
   ]
  },
  {
   "cell_type": "code",
   "execution_count": 196,
   "id": "876a55e5-a067-4b6e-96e3-bddfeebf2fa3",
   "metadata": {},
   "outputs": [
    {
     "data": {
      "text/plain": [
       "array([[0, 0, 0, 0, 0],\n",
       "       [0, 0, 0, 0, 0],\n",
       "       [0, 0, 0, 0, 0],\n",
       "       [0, 0, 0, 0, 0],\n",
       "       [0, 0, 0, 0, 0]])"
      ]
     },
     "execution_count": 196,
     "metadata": {},
     "output_type": "execute_result"
    }
   ],
   "source": [
    "idt_matrix = np.zeros((size , size) , dtype = int)\n",
    "idt_matrix"
   ]
  },
  {
   "cell_type": "code",
   "execution_count": 197,
   "id": "c9e0f7e8-1b01-4839-ba4b-7d9a2b4fef1c",
   "metadata": {},
   "outputs": [],
   "source": [
    "np.fill_diagonal(idt_matrix , 5)"
   ]
  },
  {
   "cell_type": "code",
   "execution_count": 198,
   "id": "b86a03bf-4235-49d3-ab14-077215a4c621",
   "metadata": {},
   "outputs": [
    {
     "name": "stdout",
     "output_type": "stream",
     "text": [
      "[[5 0 0 0 0]\n",
      " [0 5 0 0 0]\n",
      " [0 0 5 0 0]\n",
      " [0 0 0 5 0]\n",
      " [0 0 0 0 5]]\n"
     ]
    }
   ],
   "source": [
    "print(idt_matrix)"
   ]
  },
  {
   "cell_type": "code",
   "execution_count": 202,
   "id": "751f3354-0bd1-4c21-94eb-aedd9e0b6fc3",
   "metadata": {},
   "outputs": [
    {
     "data": {
      "text/plain": [
       "array([1, 4, 7, 2, 5, 8, 3, 6, 9])"
      ]
     },
     "execution_count": 202,
     "metadata": {},
     "output_type": "execute_result"
    }
   ],
   "source": [
    "a = np.array([[ 1 , 4 , 7] , [ 2 , 5 , 8] , [ 3 , 6 , 9]])\n",
    "b = a.flatten()\n",
    "b"
   ]
  },
  {
   "cell_type": "code",
   "execution_count": 203,
   "id": "af917cc8-5c5b-4607-af01-b8d8649630d3",
   "metadata": {},
   "outputs": [
    {
     "data": {
      "text/plain": [
       "array([[1, 4, 7],\n",
       "       [2, 5, 8],\n",
       "       [3, 6, 9]])"
      ]
     },
     "execution_count": 203,
     "metadata": {},
     "output_type": "execute_result"
    }
   ],
   "source": [
    "a"
   ]
  },
  {
   "cell_type": "code",
   "execution_count": 204,
   "id": "6071bb19-3767-47f6-bf01-f88dfdb195f7",
   "metadata": {},
   "outputs": [
    {
     "data": {
      "text/plain": [
       "1"
      ]
     },
     "execution_count": 204,
     "metadata": {},
     "output_type": "execute_result"
    }
   ],
   "source": [
    "b.ndim"
   ]
  },
  {
   "cell_type": "code",
   "execution_count": 205,
   "id": "94acaedd-6cc2-42ca-8bb6-25436e1a2340",
   "metadata": {},
   "outputs": [
    {
     "data": {
      "text/plain": [
       "2"
      ]
     },
     "execution_count": 205,
     "metadata": {},
     "output_type": "execute_result"
    }
   ],
   "source": [
    "a.ndim"
   ]
  },
  {
   "cell_type": "code",
   "execution_count": 208,
   "id": "7e45c5a4-5238-41c1-b69b-2af41af05a48",
   "metadata": {},
   "outputs": [],
   "source": [
    "a = np.unique([ 1 , 2 , 3 , 4 , 5 ,6 , 2 , 4 , 9 , 9 ,0])"
   ]
  },
  {
   "cell_type": "code",
   "execution_count": 209,
   "id": "1f9fbe50-cd3d-46a0-9acf-e737800dd39e",
   "metadata": {},
   "outputs": [
    {
     "data": {
      "text/plain": [
       "array([0, 1, 2, 3, 4, 5, 6, 9])"
      ]
     },
     "execution_count": 209,
     "metadata": {},
     "output_type": "execute_result"
    }
   ],
   "source": [
    "a"
   ]
  },
  {
   "cell_type": "code",
   "execution_count": 210,
   "id": "6fc616ef-e498-439e-886d-d074e498271f",
   "metadata": {},
   "outputs": [],
   "source": [
    "a = np.array([[ 1 , 1 , 0 ] , [ 1 , 1 , 0] , [ 2 , 3 , 4 ] , [5 , 9 , 8] , [ 2 , 3 , 4]])"
   ]
  },
  {
   "cell_type": "code",
   "execution_count": 211,
   "id": "09125368-0207-4b2e-bdf9-0355b05de528",
   "metadata": {},
   "outputs": [],
   "source": [
    "b = np.unique( a , axis = 0)"
   ]
  },
  {
   "cell_type": "code",
   "execution_count": 212,
   "id": "0cba1ea8-75c8-4a44-9948-83b7be035482",
   "metadata": {},
   "outputs": [
    {
     "data": {
      "text/plain": [
       "array([[1, 1, 0],\n",
       "       [2, 3, 4],\n",
       "       [5, 9, 8]])"
      ]
     },
     "execution_count": 212,
     "metadata": {},
     "output_type": "execute_result"
    }
   ],
   "source": [
    "b"
   ]
  },
  {
   "cell_type": "code",
   "execution_count": 213,
   "id": "73d22dae-0bca-41f4-9c29-925d4b8b2e26",
   "metadata": {},
   "outputs": [
    {
     "data": {
      "text/plain": [
       "array([[1, 1, 0],\n",
       "       [1, 1, 0],\n",
       "       [2, 3, 4],\n",
       "       [5, 9, 8],\n",
       "       [2, 3, 4]])"
      ]
     },
     "execution_count": 213,
     "metadata": {},
     "output_type": "execute_result"
    }
   ],
   "source": [
    "a"
   ]
  },
  {
   "cell_type": "code",
   "execution_count": 214,
   "id": "4b40ddf9-2b48-4f62-98fc-085ab5db7fa6",
   "metadata": {},
   "outputs": [],
   "source": [
    "a = np.array([[ 1 , 1 , 5] , [ 1 , 1 ,0] , [ 2 , 2 , 4] , [ 5 , 5 , 8] , [ 2 , 2 , 4]])"
   ]
  },
  {
   "cell_type": "code",
   "execution_count": 215,
   "id": "5667fb22-03e5-467e-ad96-0ec552259c0b",
   "metadata": {},
   "outputs": [
    {
     "data": {
      "text/plain": [
       "array([[1, 1, 5],\n",
       "       [1, 1, 0],\n",
       "       [2, 2, 4],\n",
       "       [5, 5, 8],\n",
       "       [2, 2, 4]])"
      ]
     },
     "execution_count": 215,
     "metadata": {},
     "output_type": "execute_result"
    }
   ],
   "source": [
    "a"
   ]
  },
  {
   "cell_type": "code",
   "execution_count": 216,
   "id": "d868d07e-3fb9-4a52-ae20-20edf4e6b75d",
   "metadata": {},
   "outputs": [],
   "source": [
    " b = np.unique(a , axis = 0)"
   ]
  },
  {
   "cell_type": "code",
   "execution_count": 217,
   "id": "f48c8649-019d-47ed-a279-9013938d1367",
   "metadata": {},
   "outputs": [
    {
     "data": {
      "text/plain": [
       "array([[1, 1, 0],\n",
       "       [1, 1, 5],\n",
       "       [2, 2, 4],\n",
       "       [5, 5, 8]])"
      ]
     },
     "execution_count": 217,
     "metadata": {},
     "output_type": "execute_result"
    }
   ],
   "source": [
    "b"
   ]
  },
  {
   "cell_type": "code",
   "execution_count": 220,
   "id": "18fdc15e-7879-44d2-b0f6-b3086e95baa1",
   "metadata": {},
   "outputs": [
    {
     "data": {
      "text/plain": [
       "array([[0.80291247, 0.92719285],\n",
       "       [0.89958326, 0.7680686 ],\n",
       "       [0.26645844, 0.54771744],\n",
       "       [0.07396307, 0.5637787 ],\n",
       "       [0.09969774, 0.23732975]])"
      ]
     },
     "execution_count": 220,
     "metadata": {},
     "output_type": "execute_result"
    }
   ],
   "source": [
    "a  = np.random.rand(5 , 2)\n",
    "a"
   ]
  },
  {
   "cell_type": "code",
   "execution_count": 223,
   "id": "baae7f2f-0190-40e5-ad2d-29272bbbad4c",
   "metadata": {},
   "outputs": [
    {
     "data": {
      "text/plain": [
       "array([9, 5, 7, 7, 5, 5, 7, 9, 6, 7, 5, 5, 6, 5, 5])"
      ]
     },
     "execution_count": 223,
     "metadata": {},
     "output_type": "execute_result"
    }
   ],
   "source": [
    "a = np.random.randint( 5 ,10 , size = 15)\n",
    "a"
   ]
  },
  {
   "cell_type": "code",
   "execution_count": 225,
   "id": "1594b578-9364-4630-94bd-f344aab22483",
   "metadata": {},
   "outputs": [],
   "source": [
    "a = np.random.randint(179 , size = (5 ,3))"
   ]
  },
  {
   "cell_type": "code",
   "execution_count": 226,
   "id": "9ddcd21e-d44c-4c8d-b407-e40bff320bfe",
   "metadata": {},
   "outputs": [
    {
     "data": {
      "text/plain": [
       "array([[174,  58, 100],\n",
       "       [163,  54,  35],\n",
       "       [ 13, 141,  29],\n",
       "       [ 83,  41,  73],\n",
       "       [ 31,  14, 173]])"
      ]
     },
     "execution_count": 226,
     "metadata": {},
     "output_type": "execute_result"
    }
   ],
   "source": [
    "a"
   ]
  },
  {
   "cell_type": "code",
   "execution_count": 229,
   "id": "0444c496-72b8-4ce8-a5d3-3854a863d6eb",
   "metadata": {},
   "outputs": [
    {
     "data": {
      "text/plain": [
       "array([  1.,   1.,   2.,   2.,  10., 102.])"
      ]
     },
     "execution_count": 229,
     "metadata": {},
     "output_type": "execute_result"
    }
   ],
   "source": [
    "arr = [0.23 , 0.09 , 1.2 , 1.24 , 9.99 , 101.01]\n",
    "r_arr = np.ceil(arr)\n",
    "r_arr"
   ]
  },
  {
   "cell_type": "code",
   "execution_count": 230,
   "id": "b7feb63a-9b59-41f0-8058-1343161be70e",
   "metadata": {},
   "outputs": [
    {
     "data": {
      "text/plain": [
       "array([  0.,   0.,   1.,   1.,   9., 101.])"
      ]
     },
     "execution_count": 230,
     "metadata": {},
     "output_type": "execute_result"
    }
   ],
   "source": [
    "arr = [0.23 , 0.09 , 1.2 , 1.24 , 9.99 , 101.01]\n",
    "r_arr = np.floor(arr)\n",
    "r_arr"
   ]
  },
  {
   "cell_type": "code",
   "execution_count": 232,
   "id": "08c8bfb9-9d86-4d1f-bfb0-c955a5b1a09d",
   "metadata": {},
   "outputs": [
    {
     "data": {
      "text/plain": [
       "array([  0.,   0.,   1.,   1.,  10., 101.])"
      ]
     },
     "execution_count": 232,
     "metadata": {},
     "output_type": "execute_result"
    }
   ],
   "source": [
    "arr = [0.23 , 0.09 , 1.2 , 1.24 , 9.99 , 101.01]\n",
    "r_arr = np.round(arr)\n",
    "r_arr"
   ]
  },
  {
   "cell_type": "code",
   "execution_count": 233,
   "id": "53ea4c38-7937-465f-9073-64754122f009",
   "metadata": {},
   "outputs": [
    {
     "name": "stdout",
     "output_type": "stream",
     "text": [
      "(array([1, 2, 4], dtype=int64),)\n"
     ]
    }
   ],
   "source": [
    " b = np.array([12 , 90 , 380 , 12 , 211])\n",
    "print(np.where(b>12))\n",
    "a = np.where(b>12)"
   ]
  },
  {
   "cell_type": "code",
   "execution_count": 234,
   "id": "9a9a6a61-7a37-4548-8797-5ce292e88580",
   "metadata": {},
   "outputs": [
    {
     "data": {
      "text/plain": [
       "array([ 90, 380, 211])"
      ]
     },
     "execution_count": 234,
     "metadata": {},
     "output_type": "execute_result"
    }
   ],
   "source": [
    "a1 = b[a]\n",
    "a1"
   ]
  },
  {
   "cell_type": "code",
   "execution_count": 4,
   "id": "458d0393-a7cb-4ba7-91af-9e03c839e963",
   "metadata": {},
   "outputs": [
    {
     "data": {
      "text/plain": [
       "array([3, 9, 9, 1, 6, 4, 9, 8, 7, 5])"
      ]
     },
     "execution_count": 4,
     "metadata": {},
     "output_type": "execute_result"
    }
   ],
   "source": [
    "import numpy as np\n",
    "npv = np.random.randint(10 , size = 10)\n",
    "npv"
   ]
  },
  {
   "cell_type": "code",
   "execution_count": 5,
   "id": "69173f59-cccd-47fe-b329-6ac2b28b603a",
   "metadata": {},
   "outputs": [
    {
     "data": {
      "text/plain": [
       "array([[3, 9, 9, 1, 6],\n",
       "       [4, 9, 8, 7, 5]])"
      ]
     },
     "execution_count": 5,
     "metadata": {},
     "output_type": "execute_result"
    }
   ],
   "source": [
    "npm = npv.reshape(2 , 5 )\n",
    "npm"
   ]
  },
  {
   "cell_type": "code",
   "execution_count": 6,
   "id": "22485333-b034-4819-b4c0-81cbc57dfb6d",
   "metadata": {},
   "outputs": [
    {
     "data": {
      "text/plain": [
       "1"
      ]
     },
     "execution_count": 6,
     "metadata": {},
     "output_type": "execute_result"
    }
   ],
   "source": [
    "npm[0,3]"
   ]
  },
  {
   "cell_type": "code",
   "execution_count": 7,
   "id": "abf54cca-23e7-43a0-9aa7-901c62f20c6f",
   "metadata": {},
   "outputs": [
    {
     "data": {
      "text/plain": [
       "8"
      ]
     },
     "execution_count": 7,
     "metadata": {},
     "output_type": "execute_result"
    }
   ],
   "source": [
    "npm[ 1 ,2]"
   ]
  },
  {
   "cell_type": "code",
   "execution_count": 8,
   "id": "b514b8b1-c9c9-4627-80c6-98144febdc05",
   "metadata": {},
   "outputs": [
    {
     "data": {
      "text/plain": [
       "array([[9, 9]])"
      ]
     },
     "execution_count": 8,
     "metadata": {},
     "output_type": "execute_result"
    }
   ],
   "source": [
    "npm[0:1 , 1:3]"
   ]
  },
  {
   "cell_type": "code",
   "execution_count": 9,
   "id": "bbb70eef-212c-42fc-a35c-058e350aebc7",
   "metadata": {},
   "outputs": [
    {
     "data": {
      "text/plain": [
       "array([[4, 9]])"
      ]
     },
     "execution_count": 9,
     "metadata": {},
     "output_type": "execute_result"
    }
   ],
   "source": [
    "npm[1:2 , 0:2]"
   ]
  },
  {
   "cell_type": "code",
   "execution_count": 10,
   "id": "8ab3c3bf-ac57-497b-a197-f678dca0b071",
   "metadata": {},
   "outputs": [],
   "source": [
    "lst = [[110 , 90 , 80] , [70 , 60 , 110] , [30 , 10 , 20] , [50 , 40 , 110]]"
   ]
  },
  {
   "cell_type": "code",
   "execution_count": 11,
   "id": "a9254675-d7ce-4c03-a9a9-a35c00e3307a",
   "metadata": {},
   "outputs": [],
   "source": [
    "npm = np.array(lst)"
   ]
  },
  {
   "cell_type": "code",
   "execution_count": 12,
   "id": "66d782f1-5c8a-4be7-ba5a-9f1c42928c98",
   "metadata": {},
   "outputs": [
    {
     "data": {
      "text/plain": [
       "array([[110,  90,  80],\n",
       "       [ 70,  60, 110],\n",
       "       [ 30,  10,  20],\n",
       "       [ 50,  40, 110]])"
      ]
     },
     "execution_count": 12,
     "metadata": {},
     "output_type": "execute_result"
    }
   ],
   "source": [
    "npm"
   ]
  },
  {
   "cell_type": "code",
   "execution_count": 13,
   "id": "95f731b9-bf9a-49b5-85e4-e9f066d24ad6",
   "metadata": {},
   "outputs": [
    {
     "data": {
      "text/plain": [
       "array([280, 240,  60, 200])"
      ]
     },
     "execution_count": 13,
     "metadata": {},
     "output_type": "execute_result"
    }
   ],
   "source": [
    "npm.sum(axis = 1)"
   ]
  },
  {
   "cell_type": "code",
   "execution_count": 15,
   "id": "2ecee99e-5f60-47e6-81ed-4d7a72716289",
   "metadata": {},
   "outputs": [
    {
     "data": {
      "text/plain": [
       "array([260, 200, 320])"
      ]
     },
     "execution_count": 15,
     "metadata": {},
     "output_type": "execute_result"
    }
   ],
   "source": [
    "npm.sum(axis = 0)"
   ]
  },
  {
   "cell_type": "code",
   "execution_count": 16,
   "id": "a1581974-8dbf-499e-be32-a95fecb0f3d4",
   "metadata": {},
   "outputs": [
    {
     "data": {
      "text/plain": [
       "array([[110,  90,  80],\n",
       "       [ 70,  60, 110],\n",
       "       [ 30,  10,  20],\n",
       "       [ 50,  40, 110]])"
      ]
     },
     "execution_count": 16,
     "metadata": {},
     "output_type": "execute_result"
    }
   ],
   "source": [
    "lst = [[110 , 90 , 80] , [70 , 60 , 110] , [30 , 10 , 20] , [50 , 40 , 110]]\n",
    "npm = np.array(lst)\n",
    "npm"
   ]
  },
  {
   "cell_type": "code",
   "execution_count": 19,
   "id": "bdcd0cae-8ac2-4e5d-89b2-548343f76b93",
   "metadata": {},
   "outputs": [
    {
     "data": {
      "text/plain": [
       "array([[110,  90,  80],\n",
       "       [ 70,  60, 110],\n",
       "       [ 30,  10,  20],\n",
       "       [ 50,  40, 110]])"
      ]
     },
     "execution_count": 19,
     "metadata": {},
     "output_type": "execute_result"
    }
   ],
   "source": [
    "lst2= [[110 , 90 , 80] , [70 , 60 , 110] , [30 , 10 , 20] , [50 , 40 , 0]]\n",
    "npm1 = np.array(lst)\n",
    "npm1"
   ]
  },
  {
   "cell_type": "code",
   "execution_count": 20,
   "id": "da2d36c0-56e1-49b4-bae9-fc1cdf20e38e",
   "metadata": {},
   "outputs": [
    {
     "data": {
      "text/plain": [
       "array([[1., 1., 1.],\n",
       "       [1., 1., 1.],\n",
       "       [1., 1., 1.],\n",
       "       [1., 1., 1.]])"
      ]
     },
     "execution_count": 20,
     "metadata": {},
     "output_type": "execute_result"
    }
   ],
   "source": [
    "npm3 = npm/npm1\n",
    "npm3"
   ]
  },
  {
   "cell_type": "code",
   "execution_count": 22,
   "id": "3ca0a203-faa7-4e81-9009-0331b8a0f0d3",
   "metadata": {},
   "outputs": [
    {
     "data": {
      "text/plain": [
       "array([[110,  90,  80],\n",
       "       [ 70,  60, 110],\n",
       "       [ 30,  10,  20],\n",
       "       [ 50,  40, 110]])"
      ]
     },
     "execution_count": 22,
     "metadata": {},
     "output_type": "execute_result"
    }
   ],
   "source": [
    "lst = [[110 , 90 , 80] , [70 , 60 , 110] , [30 , 10 , 20] , [50 , 40 , 110]]\n",
    "npm = np.array(lst)\n",
    "npm"
   ]
  },
  {
   "cell_type": "code",
   "execution_count": 23,
   "id": "15673bd9-0569-4457-8662-78dac9be29d4",
   "metadata": {},
   "outputs": [
    {
     "data": {
      "text/plain": [
       "array([[50, 50, 50],\n",
       "       [50, 50, 50],\n",
       "       [50, 50, 50],\n",
       "       [50, 50, 50]])"
      ]
     },
     "execution_count": 23,
     "metadata": {},
     "output_type": "execute_result"
    }
   ],
   "source": [
    "npm[: , :] = 50\n",
    "npm"
   ]
  },
  {
   "cell_type": "code",
   "execution_count": 30,
   "id": "ea057eb3-8db1-4b91-80be-cac50ae5ca51",
   "metadata": {},
   "outputs": [
    {
     "data": {
      "text/plain": [
       "array([[ 50, 500, 500],\n",
       "       [ 50,  50,  50],\n",
       "       [ 50,  50, 500],\n",
       "       [ 50,  50,  50]])"
      ]
     },
     "execution_count": 30,
     "metadata": {},
     "output_type": "execute_result"
    }
   ],
   "source": [
    "npm[0,1] = 500\n",
    "npm"
   ]
  },
  {
   "cell_type": "code",
   "execution_count": 31,
   "id": "06e34156-59c9-41c4-80be-22f52daaa745",
   "metadata": {},
   "outputs": [
    {
     "data": {
      "text/plain": [
       "matrix([[1, 3, 4],\n",
       "        [4, 0, 2]])"
      ]
     },
     "execution_count": 31,
     "metadata": {},
     "output_type": "execute_result"
    }
   ],
   "source": [
    "A = np.matrix([[1 , 3 , 4] , [4 , 0 , 2]])\n",
    "A"
   ]
  },
  {
   "cell_type": "code",
   "execution_count": 32,
   "id": "5e9ef8f6-67ca-4994-a47b-605684d77f75",
   "metadata": {},
   "outputs": [
    {
     "data": {
      "text/plain": [
       "matrix([[1, 3],\n",
       "        [0, 1],\n",
       "        [5, 2]])"
      ]
     },
     "execution_count": 32,
     "metadata": {},
     "output_type": "execute_result"
    }
   ],
   "source": [
    "B = np.matrix([[1 , 3] , [0 , 1] , [5 , 2]])\n",
    "B"
   ]
  },
  {
   "cell_type": "code",
   "execution_count": 33,
   "id": "2adf0653-5f6b-4665-87d2-84192cfcbca2",
   "metadata": {},
   "outputs": [
    {
     "data": {
      "text/plain": [
       "matrix([[21, 14],\n",
       "        [14, 16]])"
      ]
     },
     "execution_count": 33,
     "metadata": {},
     "output_type": "execute_result"
    }
   ],
   "source": [
    "C = A * B\n",
    "C"
   ]
  },
  {
   "cell_type": "code",
   "execution_count": 38,
   "id": "2b414cab-f212-4458-9879-2254a1725d3a",
   "metadata": {},
   "outputs": [
    {
     "data": {
      "text/plain": [
       "matrix([[5, 3, 2],\n",
       "        [4, 0, 1],\n",
       "        [1, 0, 1]])"
      ]
     },
     "execution_count": 38,
     "metadata": {},
     "output_type": "execute_result"
    }
   ],
   "source": [
    "A = np.matrix([[5 , 3 , 2] , [ 4 , 0 , 1] , [1 , 0 , 1]])\n",
    "A"
   ]
  },
  {
   "cell_type": "code",
   "execution_count": 39,
   "id": "bc5bacfa-99dd-4108-b9f8-2db3b1b938b7",
   "metadata": {},
   "outputs": [
    {
     "data": {
      "text/plain": [
       "matrix([[5, 4, 1],\n",
       "        [3, 0, 0],\n",
       "        [2, 1, 1]])"
      ]
     },
     "execution_count": 39,
     "metadata": {},
     "output_type": "execute_result"
    }
   ],
   "source": [
    "A.T"
   ]
  },
  {
   "cell_type": "code",
   "execution_count": 40,
   "id": "ddcce353-56d9-41be-8be1-bd2455d0bc91",
   "metadata": {},
   "outputs": [
    {
     "name": "stdout",
     "output_type": "stream",
     "text": [
      " Trace of A: 6\n"
     ]
    }
   ],
   "source": [
    "print ( \" Trace of A:\" , np.trace(A))"
   ]
  }
 ],
 "metadata": {
  "kernelspec": {
   "display_name": "Python 3 (ipykernel)",
   "language": "python",
   "name": "python3"
  },
  "language_info": {
   "codemirror_mode": {
    "name": "ipython",
    "version": 3
   },
   "file_extension": ".py",
   "mimetype": "text/x-python",
   "name": "python",
   "nbconvert_exporter": "python",
   "pygments_lexer": "ipython3",
   "version": "3.11.7"
  }
 },
 "nbformat": 4,
 "nbformat_minor": 5
}
